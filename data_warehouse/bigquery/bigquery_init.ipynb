{
 "cells": [
  {
   "cell_type": "code",
   "execution_count": 1,
   "metadata": {
    "vscode": {
     "languageId": "sql"
    }
   },
   "outputs": [
    {
     "ename": "SyntaxError",
     "evalue": "invalid syntax (341683279.py, line 1)",
     "output_type": "error",
     "traceback": [
      "\u001b[0;36m  Cell \u001b[0;32mIn[1], line 1\u001b[0;36m\u001b[0m\n\u001b[0;31m    CREATE SCHEMA dw_retail;\u001b[0m\n\u001b[0m           ^\u001b[0m\n\u001b[0;31mSyntaxError\u001b[0m\u001b[0;31m:\u001b[0m invalid syntax\n"
     ]
    }
   ],
   "source": [
    "CREATE SCHEMA dw_retail;\n",
    "\n",
    "CREATE OR REPLACE EXTERNAL TABLE dw_retail.orders (\n",
    "  order_id INTEGER,\n",
    "  order_date TIMESTAMP,\n",
    "  order_customer_id INTEGER,\n",
    "  order_status STRING\n",
    ") OPTIONS (\n",
    "  format='csv',\n",
    "  uris=['gs://wjdatalake/data/retail_db/orders/part*']\n",
    ");\n",
    "\n",
    "select * from dw_retail.orders;\n",
    "\n",
    "CREATE OR REPLACE EXTERNAL TABLE dw_retail.order_items (\n",
    "  order_item_id INTEGER,\n",
    "  order_item_order_id INTEGER,\n",
    "  order_item_product_id INTEGER,\n",
    "  order_item_quantity INTEGER,\n",
    "  order_item_subtotal DECIMAL,\n",
    "  order_item_product_price DECIMAL\n",
    ") OPTIONS (\n",
    "  format='csv',\n",
    "  uris=['gs://wjdatalake/data/retail_db/order_items/part*']\n",
    ");\n",
    "\n",
    "select * from dw_retail.order_items;"
   ]
  },
  {
   "cell_type": "code",
   "execution_count": null,
   "metadata": {
    "vscode": {
     "languageId": "sql"
    }
   },
   "outputs": [],
   "source": [
    "CREATE SCHEMA sms_db;\n",
    "\n",
    "DROP TABLE IF EXISTS sms_db.users;\n",
    "\n",
    "CREATE TABLE IF NOT EXISTS sms_db.users (\n",
    "  user_id INTEGER,\n",
    "  user_first_name STRING,\n",
    "  user_last_name STRING,\n",
    "  is_active BOOLEAN\n",
    ")\n",
    "\n",
    "INSERT INTO `sms_db.users`\n",
    "  (user_id, user_first_name, user_last_name)\n",
    "VALUES\n",
    "  (1, 'Scott', 'Tiger'),\n",
    "  (2, 'Donald', 'Duck');\n",
    "\n",
    "select * from sms_db.users;"
   ]
  },
  {
   "cell_type": "code",
   "execution_count": null,
   "metadata": {
    "vscode": {
     "languageId": "sql"
    }
   },
   "outputs": [],
   "source": []
  },
  {
   "cell_type": "code",
   "execution_count": null,
   "metadata": {
    "vscode": {
     "languageId": "sql"
    }
   },
   "outputs": [],
   "source": []
  }
 ],
 "metadata": {
  "kernelspec": {
   "display_name": "venv",
   "language": "python",
   "name": "python3"
  },
  "language_info": {
   "codemirror_mode": {
    "name": "ipython",
    "version": 3
   },
   "file_extension": ".py",
   "mimetype": "text/x-python",
   "name": "python",
   "nbconvert_exporter": "python",
   "pygments_lexer": "ipython3",
   "version": "3.9.17"
  },
  "orig_nbformat": 4
 },
 "nbformat": 4,
 "nbformat_minor": 2
}
