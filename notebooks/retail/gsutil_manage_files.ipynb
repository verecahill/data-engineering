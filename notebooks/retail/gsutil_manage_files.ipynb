{
 "cells": [
  {
   "cell_type": "code",
   "execution_count": 1,
   "metadata": {},
   "outputs": [],
   "source": [
    "from google.cloud import storage"
   ]
  },
  {
   "cell_type": "code",
   "execution_count": 2,
   "metadata": {},
   "outputs": [],
   "source": [
    "gsclient = storage.Client()"
   ]
  },
  {
   "cell_type": "code",
   "execution_count": 3,
   "metadata": {},
   "outputs": [
    {
     "data": {
      "text/plain": [
       "[<Bucket: wjdatalake>]"
      ]
     },
     "execution_count": 3,
     "metadata": {},
     "output_type": "execute_result"
    }
   ],
   "source": [
    "list(gsclient.list_buckets())"
   ]
  },
  {
   "cell_type": "code",
   "execution_count": 9,
   "metadata": {},
   "outputs": [
    {
     "name": "stdout",
     "output_type": "stream",
     "text": [
      "<class 'google.cloud.storage.bucket.Bucket'>\n",
      "wjdatalake\n"
     ]
    }
   ],
   "source": [
    "bucket = list(gsclient.list_buckets())[0]\n",
    "print(type(bucket))\n",
    "print(bucket.name)"
   ]
  },
  {
   "cell_type": "code",
   "execution_count": 4,
   "metadata": {},
   "outputs": [
    {
     "data": {
      "text/plain": [
       "<Bucket: wjdatalake>"
      ]
     },
     "execution_count": 4,
     "metadata": {},
     "output_type": "execute_result"
    }
   ],
   "source": [
    "gsclient.get_bucket('wjdatalake')"
   ]
  },
  {
   "cell_type": "code",
   "execution_count": 12,
   "metadata": {},
   "outputs": [
    {
     "data": {
      "text/plain": [
       "[<Blob: wjdatalake, data/retail_db/README.md, 1689597141648465>,\n",
       " <Blob: wjdatalake, data/retail_db/categories/part-00000, 1689597145744294>,\n",
       " <Blob: wjdatalake, data/retail_db/create_db.sql, 1689597135653486>,\n",
       " <Blob: wjdatalake, data/retail_db/create_db_tables_pg.sql, 1689597142905652>,\n",
       " <Blob: wjdatalake, data/retail_db/customers/part-00000, 1689597148260505>,\n",
       " <Blob: wjdatalake, data/retail_db/departments/part-00000, 1689597149498436>,\n",
       " <Blob: wjdatalake, data/retail_db/load_db_tables_pg.sql, 1689597139216705>,\n",
       " <Blob: wjdatalake, data/retail_db/order_items/part-00000, 1689597155705293>,\n",
       " <Blob: wjdatalake, data/retail_db/orders/part-00000, 1689597152387591>,\n",
       " <Blob: wjdatalake, data/retail_db/products/part-00000, 1689597144532668>,\n",
       " <Blob: wjdatalake, data/retail_db/schemas.json, 1689597140441562>]"
      ]
     },
     "execution_count": 12,
     "metadata": {},
     "output_type": "execute_result"
    }
   ],
   "source": [
    "list(gsclient.list_blobs('wjdatalake'))"
   ]
  },
  {
   "cell_type": "code",
   "execution_count": 16,
   "metadata": {},
   "outputs": [],
   "source": [
    "bucket = gsclient.get_bucket('wjdatalake')"
   ]
  },
  {
   "cell_type": "code",
   "execution_count": 14,
   "metadata": {},
   "outputs": [
    {
     "name": "stdout",
     "output_type": "stream",
     "text": [
      "\u001b[0;31mSignature:\u001b[0m\n",
      "\u001b[0mbucket\u001b[0m\u001b[0;34m.\u001b[0m\u001b[0mblob\u001b[0m\u001b[0;34m(\u001b[0m\u001b[0;34m\u001b[0m\n",
      "\u001b[0;34m\u001b[0m    \u001b[0mblob_name\u001b[0m\u001b[0;34m,\u001b[0m\u001b[0;34m\u001b[0m\n",
      "\u001b[0;34m\u001b[0m    \u001b[0mchunk_size\u001b[0m\u001b[0;34m=\u001b[0m\u001b[0;32mNone\u001b[0m\u001b[0;34m,\u001b[0m\u001b[0;34m\u001b[0m\n",
      "\u001b[0;34m\u001b[0m    \u001b[0mencryption_key\u001b[0m\u001b[0;34m=\u001b[0m\u001b[0;32mNone\u001b[0m\u001b[0;34m,\u001b[0m\u001b[0;34m\u001b[0m\n",
      "\u001b[0;34m\u001b[0m    \u001b[0mkms_key_name\u001b[0m\u001b[0;34m=\u001b[0m\u001b[0;32mNone\u001b[0m\u001b[0;34m,\u001b[0m\u001b[0;34m\u001b[0m\n",
      "\u001b[0;34m\u001b[0m    \u001b[0mgeneration\u001b[0m\u001b[0;34m=\u001b[0m\u001b[0;32mNone\u001b[0m\u001b[0;34m,\u001b[0m\u001b[0;34m\u001b[0m\n",
      "\u001b[0;34m\u001b[0m\u001b[0;34m)\u001b[0m\u001b[0;34m\u001b[0m\u001b[0;34m\u001b[0m\u001b[0m\n",
      "\u001b[0;31mDocstring:\u001b[0m\n",
      "Factory constructor for blob object.\n",
      "\n",
      ".. note::\n",
      "  This will not make an HTTP request; it simply instantiates\n",
      "  a blob object owned by this bucket.\n",
      "\n",
      ":type blob_name: str\n",
      ":param blob_name: The name of the blob to be instantiated.\n",
      "\n",
      ":type chunk_size: int\n",
      ":param chunk_size: The size of a chunk of data whenever iterating\n",
      "                   (in bytes). This must be a multiple of 256 KB per\n",
      "                   the API specification.\n",
      "\n",
      ":type encryption_key: bytes\n",
      ":param encryption_key:\n",
      "    (Optional) 32 byte encryption key for customer-supplied encryption.\n",
      "\n",
      ":type kms_key_name: str\n",
      ":param kms_key_name:\n",
      "    (Optional) Resource name of KMS key used to encrypt blob's content.\n",
      "\n",
      ":type generation: long\n",
      ":param generation: (Optional) If present, selects a specific revision of\n",
      "                   this object.\n",
      "\n",
      ":rtype: :class:`google.cloud.storage.blob.Blob`\n",
      ":returns: The blob object created.\n",
      "\u001b[0;31mFile:\u001b[0m      ~/Documents/data_engineer/data-engineering-gcp/venv/lib/python3.9/site-packages/google/cloud/storage/bucket.py\n",
      "\u001b[0;31mType:\u001b[0m      method"
     ]
    }
   ],
   "source": [
    "bucket.blob?"
   ]
  },
  {
   "cell_type": "code",
   "execution_count": 15,
   "metadata": {},
   "outputs": [],
   "source": [
    "blob = bucket.blob(\"upload_test/part-00000\")"
   ]
  },
  {
   "cell_type": "code",
   "execution_count": 17,
   "metadata": {},
   "outputs": [],
   "source": [
    "blob.upload_from_filename('./08 Manage Files in GCS using Python.ipynb')"
   ]
  },
  {
   "cell_type": "code",
   "execution_count": 18,
   "metadata": {},
   "outputs": [
    {
     "name": "stdout",
     "output_type": "stream",
     "text": [
      "gs://wjdatalake/upload_test/:\n",
      "gs://wjdatalake/upload_test/part-00000\n"
     ]
    }
   ],
   "source": [
    "!gsutil ls -r 'gs://wjdatalake/upload_test'"
   ]
  },
  {
   "cell_type": "code",
   "execution_count": 19,
   "metadata": {},
   "outputs": [],
   "source": [
    "order_csv = open('orders.csv', 'wb')\n",
    "gsclient.download_blob_to_file('gs://wjdatalake/upload_test/part-00000',\n",
    "                               order_csv)\n",
    "order_csv.close()"
   ]
  },
  {
   "cell_type": "code",
   "execution_count": 5,
   "metadata": {},
   "outputs": [],
   "source": [
    "import glob\n",
    "import os"
   ]
  },
  {
   "cell_type": "code",
   "execution_count": 6,
   "metadata": {},
   "outputs": [],
   "source": [
    "def get_file_names(src_base_dir):\n",
    "    items = glob.glob(f'{src_base_dir}/**', recursive=True)\n",
    "    return list(filter(lambda item: os.path.isfile(item) and item.endswith('part-00000'), items))"
   ]
  },
  {
   "cell_type": "code",
   "execution_count": 8,
   "metadata": {},
   "outputs": [],
   "source": [
    "src_base_dir = '../../data/retail_db'"
   ]
  },
  {
   "cell_type": "code",
   "execution_count": 9,
   "metadata": {},
   "outputs": [
    {
     "data": {
      "text/plain": [
       "['../../data/retail_db/customers/part-00000',\n",
       " '../../data/retail_db/products/part-00000',\n",
       " '../../data/retail_db/departments/part-00000',\n",
       " '../../data/retail_db/order_items/part-00000',\n",
       " '../../data/retail_db/orders/part-00000',\n",
       " '../../data/retail_db/categories/part-00000']"
      ]
     },
     "execution_count": 9,
     "metadata": {},
     "output_type": "execute_result"
    }
   ],
   "source": [
    "get_file_names(src_base_dir)"
   ]
  },
  {
   "cell_type": "code",
   "execution_count": 10,
   "metadata": {},
   "outputs": [
    {
     "data": {
      "text/plain": [
       "['../../data/retail_db/customers/part-00000',\n",
       " '../../data/retail_db/products/part-00000',\n",
       " '../../data/retail_db/departments/part-00000',\n",
       " '../../data/retail_db/order_items/part-00000',\n",
       " '../../data/retail_db/orders/part-00000',\n",
       " '../../data/retail_db/categories/part-00000']"
      ]
     },
     "execution_count": 10,
     "metadata": {},
     "output_type": "execute_result"
    }
   ],
   "source": [
    "items = glob.glob(f'{src_base_dir}/**', recursive=True)\n",
    "files = list(filter(lambda item: os.path.isfile(item) and item.endswith('part-00000'), items))\n",
    "list(files)"
   ]
  },
  {
   "cell_type": "code",
   "execution_count": 11,
   "metadata": {},
   "outputs": [
    {
     "data": {
      "text/plain": [
       "['..', '..', 'data', 'retail_db', 'customers', 'part-00000']"
      ]
     },
     "execution_count": 11,
     "metadata": {},
     "output_type": "execute_result"
    }
   ],
   "source": [
    "file = files[0]\n",
    "file.split('/')"
   ]
  },
  {
   "cell_type": "code",
   "execution_count": 22,
   "metadata": {},
   "outputs": [
    {
     "data": {
      "text/plain": [
       "'retail_db/load_db_tables_pg.sql'"
      ]
     },
     "execution_count": 22,
     "metadata": {},
     "output_type": "execute_result"
    }
   ],
   "source": [
    "'/'.join(file.split('/')[3:])"
   ]
  },
  {
   "cell_type": "code",
   "execution_count": 18,
   "metadata": {},
   "outputs": [],
   "source": [
    "tgt_base_dir = 'data'"
   ]
  },
  {
   "cell_type": "code",
   "execution_count": 14,
   "metadata": {},
   "outputs": [],
   "source": [
    "from google.cloud import storage"
   ]
  },
  {
   "cell_type": "code",
   "execution_count": 15,
   "metadata": {},
   "outputs": [],
   "source": [
    "gsclient = storage.Client()"
   ]
  },
  {
   "cell_type": "code",
   "execution_count": 23,
   "metadata": {},
   "outputs": [
    {
     "name": "stdout",
     "output_type": "stream",
     "text": [
      "Uploading file ../../data/retail_db/customers/part-00000\n",
      "Uploading file ../../data/retail_db/products/part-00000\n",
      "Uploading file ../../data/retail_db/create_db_tables_pg.sql\n",
      "Uploading file ../../data/retail_db/departments/part-00000\n",
      "Uploading file ../../data/retail_db/order_items/part-00000\n",
      "Uploading file ../../data/retail_db/schemas.json\n",
      "Uploading file ../../data/retail_db/orders/part-00000\n",
      "Uploading file ../../data/retail_db/categories/part-00000\n",
      "Uploading file ../../data/retail_db/load_db_tables_pg.sql\n"
     ]
    }
   ],
   "source": [
    "files = filter(lambda item: os.path.isfile(item), items)\n",
    "bucket = gsclient.get_bucket('wjdatalake')\n",
    "for file in files:\n",
    "    print(f'Uploading file {file}')\n",
    "    blob_suffix = '/'.join(file.split('/')[3:])\n",
    "    blob_name = f'{tgt_base_dir}/{blob_suffix}'\n",
    "    blob = bucket.blob(blob_name)\n",
    "    blob.upload_from_filename(file)"
   ]
  },
  {
   "cell_type": "code",
   "execution_count": 24,
   "metadata": {},
   "outputs": [
    {
     "name": "stdout",
     "output_type": "stream",
     "text": [
      "gs://wjdatalake/data/:\n",
      "\n",
      "gs://wjdatalake/data/retail_db/:\n",
      "gs://wjdatalake/data/retail_db/create_db_tables_pg.sql\n",
      "gs://wjdatalake/data/retail_db/load_db_tables_pg.sql\n",
      "gs://wjdatalake/data/retail_db/schemas.json\n",
      "\n",
      "gs://wjdatalake/data/retail_db/categories/:\n",
      "gs://wjdatalake/data/retail_db/categories/part-00000\n",
      "\n",
      "gs://wjdatalake/data/retail_db/customers/:\n",
      "gs://wjdatalake/data/retail_db/customers/part-00000\n",
      "\n",
      "gs://wjdatalake/data/retail_db/departments/:\n",
      "gs://wjdatalake/data/retail_db/departments/part-00000\n",
      "\n",
      "gs://wjdatalake/data/retail_db/order_items/:\n",
      "gs://wjdatalake/data/retail_db/order_items/part-00000\n",
      "\n",
      "gs://wjdatalake/data/retail_db/orders/:\n",
      "gs://wjdatalake/data/retail_db/orders/part-00000\n",
      "\n",
      "gs://wjdatalake/data/retail_db/products/:\n",
      "gs://wjdatalake/data/retail_db/products/part-00000\n"
     ]
    }
   ],
   "source": [
    "!gsutil ls -r 'gs://wjdatalake/data'"
   ]
  },
  {
   "cell_type": "code",
   "execution_count": 20,
   "metadata": {},
   "outputs": [
    {
     "data": {
      "text/plain": [
       "[<Blob: wjdatalake, data/data/retail_db/create_db_tables_pg.sql, 1689696766261791>,\n",
       " <Blob: wjdatalake, data/data/retail_db/load_db_tables_pg.sql, 1689696774075992>,\n",
       " <Blob: wjdatalake, data/data/retail_db/schemas.json, 1689696769142058>,\n",
       " <Blob: wjdatalake, data/retail_db/categories/part-00000, 1689696770862747>,\n",
       " <Blob: wjdatalake, data/retail_db/customers/part-00000, 1689696765357615>,\n",
       " <Blob: wjdatalake, data/retail_db/departments/part-00000, 1689696766566111>,\n",
       " <Blob: wjdatalake, data/retail_db/order_items/part-00000, 1689696768770613>,\n",
       " <Blob: wjdatalake, data/retail_db/orders/part-00000, 1689696770523544>,\n",
       " <Blob: wjdatalake, data/retail_db/products/part-00000, 1689696765947014>]"
      ]
     },
     "execution_count": 20,
     "metadata": {},
     "output_type": "execute_result"
    }
   ],
   "source": [
    "blobs = list(gsclient.list_blobs('wjdatalake', prefix='data'))\n",
    "blobs"
   ]
  },
  {
   "cell_type": "code",
   "execution_count": null,
   "metadata": {},
   "outputs": [],
   "source": []
  }
 ],
 "metadata": {
  "kernelspec": {
   "display_name": "venv",
   "language": "python",
   "name": "python3"
  },
  "language_info": {
   "codemirror_mode": {
    "name": "ipython",
    "version": 3
   },
   "file_extension": ".py",
   "mimetype": "text/x-python",
   "name": "python",
   "nbconvert_exporter": "python",
   "pygments_lexer": "ipython3",
   "version": "3.9.17"
  },
  "orig_nbformat": 4
 },
 "nbformat": 4,
 "nbformat_minor": 2
}
