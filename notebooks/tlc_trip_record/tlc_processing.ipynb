{
 "cells": [
  {
   "cell_type": "code",
   "execution_count": null,
   "metadata": {},
   "outputs": [],
   "source": [
    "## download https://d37ci6vzurychx.cloudfront.net/trip-data/fhvhv_tripdata_2023-04.parquet\n",
    "## TLC Trip Record 2023.04 dataset : High Volume For-Hire Vehicle Trip Records (PARQUET)\n",
    "## data decription : https://www.nyc.gov/assets/tlc/downloads/pdf/data_dictionary_trip_records_hvfhs.pdf"
   ]
  },
  {
   "attachments": {},
   "cell_type": "markdown",
   "metadata": {},
   "source": []
  },
  {
   "cell_type": "code",
   "execution_count": 1,
   "metadata": {},
   "outputs": [],
   "source": [
    "import pandas as pd"
   ]
  },
  {
   "cell_type": "code",
   "execution_count": 3,
   "metadata": {},
   "outputs": [
    {
     "data": {
      "text/html": [
       "<div>\n",
       "<style scoped>\n",
       "    .dataframe tbody tr th:only-of-type {\n",
       "        vertical-align: middle;\n",
       "    }\n",
       "\n",
       "    .dataframe tbody tr th {\n",
       "        vertical-align: top;\n",
       "    }\n",
       "\n",
       "    .dataframe thead th {\n",
       "        text-align: right;\n",
       "    }\n",
       "</style>\n",
       "<table border=\"1\" class=\"dataframe\">\n",
       "  <thead>\n",
       "    <tr style=\"text-align: right;\">\n",
       "      <th></th>\n",
       "      <th>hvfhs_license_num</th>\n",
       "      <th>dispatching_base_num</th>\n",
       "      <th>originating_base_num</th>\n",
       "      <th>request_datetime</th>\n",
       "      <th>on_scene_datetime</th>\n",
       "      <th>pickup_datetime</th>\n",
       "      <th>dropoff_datetime</th>\n",
       "      <th>PULocationID</th>\n",
       "      <th>DOLocationID</th>\n",
       "      <th>trip_miles</th>\n",
       "      <th>...</th>\n",
       "      <th>sales_tax</th>\n",
       "      <th>congestion_surcharge</th>\n",
       "      <th>airport_fee</th>\n",
       "      <th>tips</th>\n",
       "      <th>driver_pay</th>\n",
       "      <th>shared_request_flag</th>\n",
       "      <th>shared_match_flag</th>\n",
       "      <th>access_a_ride_flag</th>\n",
       "      <th>wav_request_flag</th>\n",
       "      <th>wav_match_flag</th>\n",
       "    </tr>\n",
       "  </thead>\n",
       "  <tbody>\n",
       "    <tr>\n",
       "      <th>0</th>\n",
       "      <td>HV0003</td>\n",
       "      <td>B03404</td>\n",
       "      <td>B03404</td>\n",
       "      <td>2023-04-01 00:01:28</td>\n",
       "      <td>2023-04-01 00:02:41</td>\n",
       "      <td>2023-04-01 00:03:03</td>\n",
       "      <td>2023-04-01 00:15:42</td>\n",
       "      <td>174</td>\n",
       "      <td>126</td>\n",
       "      <td>5.10</td>\n",
       "      <td>...</td>\n",
       "      <td>1.82</td>\n",
       "      <td>0.00</td>\n",
       "      <td>0.0</td>\n",
       "      <td>0.00</td>\n",
       "      <td>13.83</td>\n",
       "      <td>N</td>\n",
       "      <td>N</td>\n",
       "      <td></td>\n",
       "      <td>N</td>\n",
       "      <td>N</td>\n",
       "    </tr>\n",
       "    <tr>\n",
       "      <th>1</th>\n",
       "      <td>HV0003</td>\n",
       "      <td>B03404</td>\n",
       "      <td>B03404</td>\n",
       "      <td>2023-04-01 00:39:40</td>\n",
       "      <td>2023-04-01 00:41:20</td>\n",
       "      <td>2023-04-01 00:43:42</td>\n",
       "      <td>2023-04-01 01:01:08</td>\n",
       "      <td>211</td>\n",
       "      <td>163</td>\n",
       "      <td>3.11</td>\n",
       "      <td>...</td>\n",
       "      <td>3.56</td>\n",
       "      <td>2.75</td>\n",
       "      <td>0.0</td>\n",
       "      <td>9.52</td>\n",
       "      <td>24.84</td>\n",
       "      <td>N</td>\n",
       "      <td>N</td>\n",
       "      <td></td>\n",
       "      <td>N</td>\n",
       "      <td>N</td>\n",
       "    </tr>\n",
       "    <tr>\n",
       "      <th>2</th>\n",
       "      <td>HV0003</td>\n",
       "      <td>B03404</td>\n",
       "      <td>B03404</td>\n",
       "      <td>2023-03-31 23:56:31</td>\n",
       "      <td>2023-04-01 00:00:20</td>\n",
       "      <td>2023-04-01 00:01:01</td>\n",
       "      <td>2023-04-01 00:09:48</td>\n",
       "      <td>222</td>\n",
       "      <td>76</td>\n",
       "      <td>2.40</td>\n",
       "      <td>...</td>\n",
       "      <td>1.08</td>\n",
       "      <td>0.00</td>\n",
       "      <td>0.0</td>\n",
       "      <td>0.00</td>\n",
       "      <td>8.10</td>\n",
       "      <td>Y</td>\n",
       "      <td>N</td>\n",
       "      <td></td>\n",
       "      <td>N</td>\n",
       "      <td>N</td>\n",
       "    </tr>\n",
       "    <tr>\n",
       "      <th>3</th>\n",
       "      <td>HV0003</td>\n",
       "      <td>B03404</td>\n",
       "      <td>B03404</td>\n",
       "      <td>2023-04-01 00:12:35</td>\n",
       "      <td>2023-04-01 00:16:04</td>\n",
       "      <td>2023-04-01 00:17:17</td>\n",
       "      <td>2023-04-01 00:19:12</td>\n",
       "      <td>76</td>\n",
       "      <td>124</td>\n",
       "      <td>0.43</td>\n",
       "      <td>...</td>\n",
       "      <td>0.70</td>\n",
       "      <td>0.00</td>\n",
       "      <td>0.0</td>\n",
       "      <td>0.00</td>\n",
       "      <td>5.40</td>\n",
       "      <td>N</td>\n",
       "      <td>N</td>\n",
       "      <td></td>\n",
       "      <td>N</td>\n",
       "      <td>N</td>\n",
       "    </tr>\n",
       "    <tr>\n",
       "      <th>4</th>\n",
       "      <td>HV0003</td>\n",
       "      <td>B03404</td>\n",
       "      <td>B03404</td>\n",
       "      <td>2023-04-01 00:46:23</td>\n",
       "      <td>2023-04-01 00:47:30</td>\n",
       "      <td>2023-04-01 00:47:49</td>\n",
       "      <td>2023-04-01 01:05:23</td>\n",
       "      <td>263</td>\n",
       "      <td>247</td>\n",
       "      <td>4.18</td>\n",
       "      <td>...</td>\n",
       "      <td>1.48</td>\n",
       "      <td>2.75</td>\n",
       "      <td>0.0</td>\n",
       "      <td>0.00</td>\n",
       "      <td>15.65</td>\n",
       "      <td>N</td>\n",
       "      <td>N</td>\n",
       "      <td></td>\n",
       "      <td>N</td>\n",
       "      <td>N</td>\n",
       "    </tr>\n",
       "  </tbody>\n",
       "</table>\n",
       "<p>5 rows × 24 columns</p>\n",
       "</div>"
      ],
      "text/plain": [
       "  hvfhs_license_num dispatching_base_num originating_base_num  \\\n",
       "0            HV0003               B03404               B03404   \n",
       "1            HV0003               B03404               B03404   \n",
       "2            HV0003               B03404               B03404   \n",
       "3            HV0003               B03404               B03404   \n",
       "4            HV0003               B03404               B03404   \n",
       "\n",
       "     request_datetime   on_scene_datetime     pickup_datetime  \\\n",
       "0 2023-04-01 00:01:28 2023-04-01 00:02:41 2023-04-01 00:03:03   \n",
       "1 2023-04-01 00:39:40 2023-04-01 00:41:20 2023-04-01 00:43:42   \n",
       "2 2023-03-31 23:56:31 2023-04-01 00:00:20 2023-04-01 00:01:01   \n",
       "3 2023-04-01 00:12:35 2023-04-01 00:16:04 2023-04-01 00:17:17   \n",
       "4 2023-04-01 00:46:23 2023-04-01 00:47:30 2023-04-01 00:47:49   \n",
       "\n",
       "     dropoff_datetime  PULocationID  DOLocationID  trip_miles  ...  sales_tax  \\\n",
       "0 2023-04-01 00:15:42           174           126        5.10  ...       1.82   \n",
       "1 2023-04-01 01:01:08           211           163        3.11  ...       3.56   \n",
       "2 2023-04-01 00:09:48           222            76        2.40  ...       1.08   \n",
       "3 2023-04-01 00:19:12            76           124        0.43  ...       0.70   \n",
       "4 2023-04-01 01:05:23           263           247        4.18  ...       1.48   \n",
       "\n",
       "   congestion_surcharge  airport_fee  tips  driver_pay  shared_request_flag  \\\n",
       "0                  0.00          0.0  0.00       13.83                    N   \n",
       "1                  2.75          0.0  9.52       24.84                    N   \n",
       "2                  0.00          0.0  0.00        8.10                    Y   \n",
       "3                  0.00          0.0  0.00        5.40                    N   \n",
       "4                  2.75          0.0  0.00       15.65                    N   \n",
       "\n",
       "   shared_match_flag  access_a_ride_flag  wav_request_flag wav_match_flag  \n",
       "0                  N                                     N              N  \n",
       "1                  N                                     N              N  \n",
       "2                  N                                     N              N  \n",
       "3                  N                                     N              N  \n",
       "4                  N                                     N              N  \n",
       "\n",
       "[5 rows x 24 columns]"
      ]
     },
     "execution_count": 3,
     "metadata": {},
     "output_type": "execute_result"
    }
   ],
   "source": [
    "df = pd.read_parquet('../../data/tlc_trip_record/fhvhv_tripdata_2023-04.parquet')\n",
    "df.head()"
   ]
  },
  {
   "cell_type": "code",
   "execution_count": 4,
   "metadata": {},
   "outputs": [],
   "source": [
    "from pyspark import SparkConf, SparkContext\n",
    "import pandas as pd"
   ]
  },
  {
   "cell_type": "code",
   "execution_count": 5,
   "metadata": {},
   "outputs": [
    {
     "name": "stderr",
     "output_type": "stream",
     "text": [
      "Setting default log level to \"WARN\".\n",
      "To adjust logging level use sc.setLogLevel(newLevel). For SparkR, use setLogLevel(newLevel).\n",
      "23/07/18 16:54:00 WARN NativeCodeLoader: Unable to load native-hadoop library for your platform... using builtin-java classes where applicable\n"
     ]
    }
   ],
   "source": [
    "conf = SparkConf().setMaster(\"local\").setAppName(\"uber-date-trips\")\n",
    "sc = SparkContext(conf=conf)"
   ]
  },
  {
   "cell_type": "code",
   "execution_count": 14,
   "metadata": {},
   "outputs": [
    {
     "name": "stderr",
     "output_type": "stream",
     "text": [
      "/Users/woojin/Documents/data_engineer/data-engineering-gcp/venv/lib/python3.9/site-packages/pyspark/sql/context.py:112: FutureWarning: Deprecated in 3.0.0. Use SparkSession.builder.getOrCreate() instead.\n",
      "  warnings.warn(\n"
     ]
    }
   ],
   "source": [
    "from pyspark.sql import SQLContext\n",
    "sqlContext = SQLContext(sc)"
   ]
  },
  {
   "cell_type": "code",
   "execution_count": 9,
   "metadata": {},
   "outputs": [],
   "source": [
    "directory = \"/Users/woojin/Documents/data_engineer/data-engineering-gcp/data/tlc_trip_record\"\n",
    "filename = \"fhvhv_tripdata_2023-04.parquet\""
   ]
  },
  {
   "cell_type": "code",
   "execution_count": 29,
   "metadata": {},
   "outputs": [
    {
     "name": "stdout",
     "output_type": "stream",
     "text": [
      "+-----------------+--------------------+--------------------+-------------------+-------------------+-------------------+-------------------+------------+------------+----------+---------+-------------------+-----+----+---------+--------------------+-----------+----+----------+-------------------+-----------------+------------------+----------------+--------------+\n",
      "|hvfhs_license_num|dispatching_base_num|originating_base_num|   request_datetime|  on_scene_datetime|    pickup_datetime|   dropoff_datetime|PULocationID|DOLocationID|trip_miles|trip_time|base_passenger_fare|tolls| bcf|sales_tax|congestion_surcharge|airport_fee|tips|driver_pay|shared_request_flag|shared_match_flag|access_a_ride_flag|wav_request_flag|wav_match_flag|\n",
      "+-----------------+--------------------+--------------------+-------------------+-------------------+-------------------+-------------------+------------+------------+----------+---------+-------------------+-----+----+---------+--------------------+-----------+----+----------+-------------------+-----------------+------------------+----------------+--------------+\n",
      "|           HV0003|              B03404|              B03404|2023-04-01 00:01:28|2023-04-01 00:02:41|2023-04-01 00:03:03|2023-04-01 00:15:42|         174|         126|       5.1|      759|              20.52|  0.0|0.62|     1.82|                 0.0|        0.0| 0.0|     13.83|                  N|                N|                  |               N|             N|\n",
      "|           HV0003|              B03404|              B03404|2023-04-01 00:39:40|2023-04-01 00:41:20|2023-04-01 00:43:42|2023-04-01 01:01:08|         211|         163|      3.11|     1046|              40.12|  0.0| 1.2|     3.56|                2.75|        0.0|9.52|     24.84|                  N|                N|                  |               N|             N|\n",
      "|           HV0003|              B03404|              B03404|2023-03-31 23:56:31|2023-04-01 00:00:20|2023-04-01 00:01:01|2023-04-01 00:09:48|         222|          76|       2.4|      527|              12.16|  0.0|0.36|     1.08|                 0.0|        0.0| 0.0|       8.1|                  Y|                N|                  |               N|             N|\n",
      "|           HV0003|              B03404|              B03404|2023-04-01 00:12:35|2023-04-01 00:16:04|2023-04-01 00:17:17|2023-04-01 00:19:12|          76|         124|      0.43|      115|               7.86|  0.0|0.24|      0.7|                 0.0|        0.0| 0.0|       5.4|                  N|                N|                  |               N|             N|\n",
      "|           HV0003|              B03404|              B03404|2023-04-01 00:46:23|2023-04-01 00:47:30|2023-04-01 00:47:49|2023-04-01 01:05:23|         263|         247|      4.18|     1054|              16.73|  0.0| 0.5|     1.48|                2.75|        0.0| 0.0|     15.65|                  N|                N|                  |               N|             N|\n",
      "|           HV0003|              B03404|              B03404|2023-04-01 00:18:41|2023-04-01 00:21:11|2023-04-01 00:22:29|2023-04-01 00:46:55|         142|         244|      8.11|     1466|              37.73|  0.0|1.13|     3.35|                2.75|        0.0|6.39|     29.09|                  N|                N|                  |               N|             N|\n",
      "|           HV0005|              B03406|                null|2023-03-31 23:56:53|               null|2023-04-01 00:06:22|2023-04-01 00:26:59|          79|         246|     2.651|     1237|              26.54|  0.0| 0.8|     2.36|                2.75|        0.0| 0.0|     16.15|                  N|                N|                 N|               N|             Y|\n",
      "|           HV0003|              B03404|              B03404|2023-04-01 00:42:50|2023-04-01 00:46:44|2023-04-01 00:48:45|2023-04-01 01:20:12|         231|         149|      11.3|     1887|              44.53|  0.0|1.34|     3.95|                2.75|        0.0| 0.0|     42.75|                  N|                N|                  |               N|             N|\n",
      "|           HV0003|              B03404|              B03404|2023-04-01 00:34:53|2023-04-01 00:36:42|2023-04-01 00:38:42|2023-04-01 00:50:13|         230|          48|      0.92|      691|               9.11|  0.0|0.27|     0.81|                2.75|        0.0| 5.0|       7.7|                  N|                N|                  |               N|             N|\n",
      "|           HV0005|              B03406|                null|2023-04-01 00:06:34|               null|2023-04-01 00:08:03|2023-04-01 00:14:13|          97|          25|     1.049|      370|               8.04|  0.0|0.24|     0.71|                 0.0|        0.0| 0.0|      9.72|                  N|                N|                 N|               N|             N|\n",
      "+-----------------+--------------------+--------------------+-------------------+-------------------+-------------------+-------------------+------------+------------+----------+---------+-------------------+-----+----+---------+--------------------+-----------+----+----------+-------------------+-----------------+------------------+----------------+--------------+\n",
      "only showing top 10 rows\n",
      "\n"
     ]
    },
    {
     "name": "stderr",
     "output_type": "stream",
     "text": [
      "                                                                                \r"
     ]
    }
   ],
   "source": [
    "# lines = sc.textFile(f\"file:///{directory}/{filename}\")\n",
    "\n",
    "df = sqlContext.read.parquet(f\"{directory}/{filename}\")\n",
    "df.show(10)"
   ]
  },
  {
   "cell_type": "code",
   "execution_count": 16,
   "metadata": {},
   "outputs": [
    {
     "name": "stderr",
     "output_type": "stream",
     "text": [
      "                                                                                \r"
     ]
    },
    {
     "data": {
      "text/plain": [
       "Row(hvfhs_license_num='HV0003', dispatching_base_num='B03404', originating_base_num='B03404', request_datetime=datetime.datetime(2023, 4, 1, 0, 1, 28), on_scene_datetime=datetime.datetime(2023, 4, 1, 0, 2, 41), pickup_datetime=datetime.datetime(2023, 4, 1, 0, 3, 3), dropoff_datetime=datetime.datetime(2023, 4, 1, 0, 15, 42), PULocationID=174, DOLocationID=126, trip_miles=5.1, trip_time=759, base_passenger_fare=20.52, tolls=0.0, bcf=0.62, sales_tax=1.82, congestion_surcharge=0.0, airport_fee=0.0, tips=0.0, driver_pay=13.83, shared_request_flag='N', shared_match_flag='N', access_a_ride_flag=' ', wav_request_flag='N', wav_match_flag='N')"
      ]
     },
     "execution_count": 16,
     "metadata": {},
     "output_type": "execute_result"
    }
   ],
   "source": [
    "df.first()"
   ]
  },
  {
   "cell_type": "code",
   "execution_count": 27,
   "metadata": {},
   "outputs": [
    {
     "data": {
      "text/plain": [
       "pyspark.sql.dataframe.DataFrame"
      ]
     },
     "execution_count": 27,
     "metadata": {},
     "output_type": "execute_result"
    }
   ],
   "source": [
    "# header = df.first()\n",
    "# filtered_lines = df.filter(lambda row:row != header)\n",
    "# dates = filtered_lines.map(lambda x: x.split(\",\")[2].split(\" \")[0])\n",
    "# dates.countByValue()\n",
    "type(df)"
   ]
  },
  {
   "cell_type": "code",
   "execution_count": 22,
   "metadata": {},
   "outputs": [],
   "source": [
    "from pyspark.sql import SparkSession\n",
    "spark = SparkSession.builder \\\n",
    "    .master('local') \\\n",
    "    .appName('uber-date-trips') \\\n",
    "    .getOrCreate()"
   ]
  },
  {
   "cell_type": "code",
   "execution_count": 25,
   "metadata": {},
   "outputs": [
    {
     "name": "stderr",
     "output_type": "stream",
     "text": [
      "                                                                                \r"
     ]
    },
    {
     "name": "stdout",
     "output_type": "stream",
     "text": [
      "+-----------------+--------------------+--------------------+-------------------+-------------------+-------------------+-------------------+------------+------------+----------+---------+-------------------+-----+----+---------+--------------------+-----------+----+----------+-------------------+-----------------+------------------+----------------+--------------+\n",
      "|hvfhs_license_num|dispatching_base_num|originating_base_num|   request_datetime|  on_scene_datetime|    pickup_datetime|   dropoff_datetime|PULocationID|DOLocationID|trip_miles|trip_time|base_passenger_fare|tolls| bcf|sales_tax|congestion_surcharge|airport_fee|tips|driver_pay|shared_request_flag|shared_match_flag|access_a_ride_flag|wav_request_flag|wav_match_flag|\n",
      "+-----------------+--------------------+--------------------+-------------------+-------------------+-------------------+-------------------+------------+------------+----------+---------+-------------------+-----+----+---------+--------------------+-----------+----+----------+-------------------+-----------------+------------------+----------------+--------------+\n",
      "|           HV0003|              B03404|              B03404|2023-04-01 00:01:28|2023-04-01 00:02:41|2023-04-01 00:03:03|2023-04-01 00:15:42|         174|         126|       5.1|      759|              20.52|  0.0|0.62|     1.82|                 0.0|        0.0| 0.0|     13.83|                  N|                N|                  |               N|             N|\n",
      "|           HV0003|              B03404|              B03404|2023-04-01 00:39:40|2023-04-01 00:41:20|2023-04-01 00:43:42|2023-04-01 01:01:08|         211|         163|      3.11|     1046|              40.12|  0.0| 1.2|     3.56|                2.75|        0.0|9.52|     24.84|                  N|                N|                  |               N|             N|\n",
      "|           HV0003|              B03404|              B03404|2023-03-31 23:56:31|2023-04-01 00:00:20|2023-04-01 00:01:01|2023-04-01 00:09:48|         222|          76|       2.4|      527|              12.16|  0.0|0.36|     1.08|                 0.0|        0.0| 0.0|       8.1|                  Y|                N|                  |               N|             N|\n",
      "|           HV0003|              B03404|              B03404|2023-04-01 00:12:35|2023-04-01 00:16:04|2023-04-01 00:17:17|2023-04-01 00:19:12|          76|         124|      0.43|      115|               7.86|  0.0|0.24|      0.7|                 0.0|        0.0| 0.0|       5.4|                  N|                N|                  |               N|             N|\n",
      "|           HV0003|              B03404|              B03404|2023-04-01 00:46:23|2023-04-01 00:47:30|2023-04-01 00:47:49|2023-04-01 01:05:23|         263|         247|      4.18|     1054|              16.73|  0.0| 0.5|     1.48|                2.75|        0.0| 0.0|     15.65|                  N|                N|                  |               N|             N|\n",
      "|           HV0003|              B03404|              B03404|2023-04-01 00:18:41|2023-04-01 00:21:11|2023-04-01 00:22:29|2023-04-01 00:46:55|         142|         244|      8.11|     1466|              37.73|  0.0|1.13|     3.35|                2.75|        0.0|6.39|     29.09|                  N|                N|                  |               N|             N|\n",
      "|           HV0005|              B03406|                null|2023-03-31 23:56:53|               null|2023-04-01 00:06:22|2023-04-01 00:26:59|          79|         246|     2.651|     1237|              26.54|  0.0| 0.8|     2.36|                2.75|        0.0| 0.0|     16.15|                  N|                N|                 N|               N|             Y|\n",
      "|           HV0003|              B03404|              B03404|2023-04-01 00:42:50|2023-04-01 00:46:44|2023-04-01 00:48:45|2023-04-01 01:20:12|         231|         149|      11.3|     1887|              44.53|  0.0|1.34|     3.95|                2.75|        0.0| 0.0|     42.75|                  N|                N|                  |               N|             N|\n",
      "|           HV0003|              B03404|              B03404|2023-04-01 00:34:53|2023-04-01 00:36:42|2023-04-01 00:38:42|2023-04-01 00:50:13|         230|          48|      0.92|      691|               9.11|  0.0|0.27|     0.81|                2.75|        0.0| 5.0|       7.7|                  N|                N|                  |               N|             N|\n",
      "|           HV0005|              B03406|                null|2023-04-01 00:06:34|               null|2023-04-01 00:08:03|2023-04-01 00:14:13|          97|          25|     1.049|      370|               8.04|  0.0|0.24|     0.71|                 0.0|        0.0| 0.0|      9.72|                  N|                N|                 N|               N|             N|\n",
      "|           HV0005|              B03406|                null|2023-04-01 00:40:22|               null|2023-04-01 00:43:04|2023-04-01 00:55:27|         188|         257|     2.434|      743|              14.48|  0.0|0.34|     1.01|                 0.0|        0.0| 3.0|     10.16|                  N|                N|                 N|               N|             N|\n",
      "|           HV0003|              B03404|              B03404|2023-04-01 00:21:31|2023-04-01 00:22:39|2023-04-01 00:23:42|2023-04-01 00:38:41|         179|          75|      5.78|      899|              24.06| 6.55|0.92|     2.72|                 0.0|        0.0| 0.0|     16.04|                  N|                N|                  |               N|             N|\n",
      "|           HV0005|              B03406|                null|2023-04-01 00:02:18|               null|2023-04-01 00:11:08|2023-04-01 00:17:16|           7|         179|     1.107|      368|               7.04|  0.0|0.21|     0.62|                 0.0|        0.0| 2.0|      5.47|                  N|                N|                 N|               N|             N|\n",
      "|           HV0005|              B03406|                null|2023-04-01 00:41:46|               null|2023-04-01 00:44:56|2023-04-01 01:12:14|         236|         224|     4.901|     1638|              16.44|  0.0|0.45|     1.33|                2.75|        0.0| 0.0|     21.79|                  N|                N|                 N|               N|             N|\n",
      "|           HV0005|              B03406|                null|2023-04-01 00:09:44|               null|2023-04-01 00:14:20|2023-04-01 00:43:06|         177|          89|     5.185|     1726|              28.89|  0.0|0.63|     1.85|                 0.0|        0.0|4.71|     22.99|                  N|                N|                 N|               N|             N|\n",
      "|           HV0005|              B03406|                null|2023-04-01 00:47:20|               null|2023-04-01 00:49:09|2023-04-01 01:00:37|          85|          91|     1.681|      688|               8.04|  0.0|0.24|     0.71|                 0.0|        0.0| 0.0|      8.65|                  N|                N|                 N|               N|             N|\n",
      "|           HV0003|              B03404|              B03404|2023-04-01 00:22:37|2023-04-01 00:26:06|2023-04-01 00:28:07|2023-04-01 01:01:19|         231|         263|      9.01|     1992|              48.97|  0.0|1.47|     4.35|                2.75|        0.0| 0.0|     33.67|                  N|                N|                  |               N|             N|\n",
      "|           HV0003|              B03404|              B03404|2023-04-01 00:11:42|2023-04-01 00:16:13|2023-04-01 00:16:54|2023-04-01 00:33:32|         106|         256|      4.14|      998|              23.24|  0.0| 0.7|     2.06|                 0.0|        0.0| 0.0|     21.74|                  N|                N|                  |               N|             N|\n",
      "|           HV0003|              B03404|              B03404|2023-04-01 00:33:35|2023-04-01 00:35:17|2023-04-01 00:36:10|2023-04-01 01:00:25|         256|         236|      9.65|     1455|               37.6|  0.0|1.13|     3.34|                2.75|        0.0|6.72|     33.62|                  N|                N|                  |               N|             N|\n",
      "|           HV0003|              B03404|              B03404|2023-04-01 00:10:54|2023-04-01 00:12:34|2023-04-01 00:14:09|2023-04-01 00:33:28|         127|          32|       4.2|     1159|              23.19|  0.0| 0.7|     2.06|                 0.0|        0.0| 0.0|     16.42|                  N|                N|                  |               N|             N|\n",
      "+-----------------+--------------------+--------------------+-------------------+-------------------+-------------------+-------------------+------------+------------+----------+---------+-------------------+-----+----+---------+--------------------+-----------+----+----------+-------------------+-----------------+------------------+----------------+--------------+\n",
      "only showing top 20 rows\n",
      "\n"
     ]
    }
   ],
   "source": [
    "parquetFile = spark.read.parquet(f\"{directory}/{filename}\")\n",
    "\n",
    "# Parquet files can also be used to create a temporary view and then used in SQL statements.\n",
    "parquetFile.createOrReplaceTempView(\"TLC_Trip\")\n",
    "teenagers = spark.sql(\"SELECT * FROM TLC_Trip\")\n",
    "teenagers.show()"
   ]
  },
  {
   "cell_type": "code",
   "execution_count": null,
   "metadata": {},
   "outputs": [],
   "source": []
  }
 ],
 "metadata": {
  "kernelspec": {
   "display_name": "venv",
   "language": "python",
   "name": "python3"
  },
  "language_info": {
   "codemirror_mode": {
    "name": "ipython",
    "version": 3
   },
   "file_extension": ".py",
   "mimetype": "text/x-python",
   "name": "python",
   "nbconvert_exporter": "python",
   "pygments_lexer": "ipython3",
   "version": "3.9.17"
  },
  "orig_nbformat": 4
 },
 "nbformat": 4,
 "nbformat_minor": 2
}
